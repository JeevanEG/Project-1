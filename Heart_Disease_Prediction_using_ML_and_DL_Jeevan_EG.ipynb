{
  "nbformat": 4,
  "nbformat_minor": 0,
  "metadata": {
    "colab": {
      "provenance": []
    },
    "kernelspec": {
      "name": "python3",
      "display_name": "Python 3"
    },
    "language_info": {
      "name": "python"
    }
  },
  "cells": [
    {
      "cell_type": "markdown",
      "source": [
        "Import Dependencies"
      ],
      "metadata": {
        "id": "BVSFeyDUlaqm"
      }
    },
    {
      "cell_type": "code",
      "execution_count": 1,
      "metadata": {
        "id": "QpIlfTeAQ3VT"
      },
      "outputs": [],
      "source": [
        "import numpy as np\n",
        "import pandas as pd\n",
        "from sklearn.model_selection import train_test_split\n",
        "from sklearn.linear_model import LogisticRegression\n",
        "from sklearn.metrics import accuracy_score"
      ]
    },
    {
      "cell_type": "markdown",
      "source": [
        "Data collection and processing"
      ],
      "metadata": {
        "id": "Gj-whHYTlhRJ"
      }
    },
    {
      "cell_type": "code",
      "source": [
        "df=pd.read_csv('heart.csv')"
      ],
      "metadata": {
        "id": "yMJ0QHOjlUHe"
      },
      "execution_count": 3,
      "outputs": []
    },
    {
      "cell_type": "code",
      "source": [
        "df.tail()"
      ],
      "metadata": {
        "colab": {
          "base_uri": "https://localhost:8080/",
          "height": 206
        },
        "id": "tF9hCP7bmEQ7",
        "outputId": "4fa92bb8-f11c-480c-fbb9-e5b999d6c4c9"
      },
      "execution_count": 5,
      "outputs": [
        {
          "output_type": "execute_result",
          "data": {
            "text/plain": [
              "      age  sex  cp  trestbps  chol  fbs  restecg  thalach  exang  oldpeak  \\\n",
              "1020   59    1   1       140   221    0        1      164      1      0.0   \n",
              "1021   60    1   0       125   258    0        0      141      1      2.8   \n",
              "1022   47    1   0       110   275    0        0      118      1      1.0   \n",
              "1023   50    0   0       110   254    0        0      159      0      0.0   \n",
              "1024   54    1   0       120   188    0        1      113      0      1.4   \n",
              "\n",
              "      slope  ca  thal  target  \n",
              "1020      2   0     2       1  \n",
              "1021      1   1     3       0  \n",
              "1022      1   1     2       0  \n",
              "1023      2   0     2       1  \n",
              "1024      1   1     3       0  "
            ],
            "text/html": [
              "\n",
              "  <div id=\"df-b6923f12-4731-4386-bf17-fd99abde9ac4\" class=\"colab-df-container\">\n",
              "    <div>\n",
              "<style scoped>\n",
              "    .dataframe tbody tr th:only-of-type {\n",
              "        vertical-align: middle;\n",
              "    }\n",
              "\n",
              "    .dataframe tbody tr th {\n",
              "        vertical-align: top;\n",
              "    }\n",
              "\n",
              "    .dataframe thead th {\n",
              "        text-align: right;\n",
              "    }\n",
              "</style>\n",
              "<table border=\"1\" class=\"dataframe\">\n",
              "  <thead>\n",
              "    <tr style=\"text-align: right;\">\n",
              "      <th></th>\n",
              "      <th>age</th>\n",
              "      <th>sex</th>\n",
              "      <th>cp</th>\n",
              "      <th>trestbps</th>\n",
              "      <th>chol</th>\n",
              "      <th>fbs</th>\n",
              "      <th>restecg</th>\n",
              "      <th>thalach</th>\n",
              "      <th>exang</th>\n",
              "      <th>oldpeak</th>\n",
              "      <th>slope</th>\n",
              "      <th>ca</th>\n",
              "      <th>thal</th>\n",
              "      <th>target</th>\n",
              "    </tr>\n",
              "  </thead>\n",
              "  <tbody>\n",
              "    <tr>\n",
              "      <th>1020</th>\n",
              "      <td>59</td>\n",
              "      <td>1</td>\n",
              "      <td>1</td>\n",
              "      <td>140</td>\n",
              "      <td>221</td>\n",
              "      <td>0</td>\n",
              "      <td>1</td>\n",
              "      <td>164</td>\n",
              "      <td>1</td>\n",
              "      <td>0.0</td>\n",
              "      <td>2</td>\n",
              "      <td>0</td>\n",
              "      <td>2</td>\n",
              "      <td>1</td>\n",
              "    </tr>\n",
              "    <tr>\n",
              "      <th>1021</th>\n",
              "      <td>60</td>\n",
              "      <td>1</td>\n",
              "      <td>0</td>\n",
              "      <td>125</td>\n",
              "      <td>258</td>\n",
              "      <td>0</td>\n",
              "      <td>0</td>\n",
              "      <td>141</td>\n",
              "      <td>1</td>\n",
              "      <td>2.8</td>\n",
              "      <td>1</td>\n",
              "      <td>1</td>\n",
              "      <td>3</td>\n",
              "      <td>0</td>\n",
              "    </tr>\n",
              "    <tr>\n",
              "      <th>1022</th>\n",
              "      <td>47</td>\n",
              "      <td>1</td>\n",
              "      <td>0</td>\n",
              "      <td>110</td>\n",
              "      <td>275</td>\n",
              "      <td>0</td>\n",
              "      <td>0</td>\n",
              "      <td>118</td>\n",
              "      <td>1</td>\n",
              "      <td>1.0</td>\n",
              "      <td>1</td>\n",
              "      <td>1</td>\n",
              "      <td>2</td>\n",
              "      <td>0</td>\n",
              "    </tr>\n",
              "    <tr>\n",
              "      <th>1023</th>\n",
              "      <td>50</td>\n",
              "      <td>0</td>\n",
              "      <td>0</td>\n",
              "      <td>110</td>\n",
              "      <td>254</td>\n",
              "      <td>0</td>\n",
              "      <td>0</td>\n",
              "      <td>159</td>\n",
              "      <td>0</td>\n",
              "      <td>0.0</td>\n",
              "      <td>2</td>\n",
              "      <td>0</td>\n",
              "      <td>2</td>\n",
              "      <td>1</td>\n",
              "    </tr>\n",
              "    <tr>\n",
              "      <th>1024</th>\n",
              "      <td>54</td>\n",
              "      <td>1</td>\n",
              "      <td>0</td>\n",
              "      <td>120</td>\n",
              "      <td>188</td>\n",
              "      <td>0</td>\n",
              "      <td>1</td>\n",
              "      <td>113</td>\n",
              "      <td>0</td>\n",
              "      <td>1.4</td>\n",
              "      <td>1</td>\n",
              "      <td>1</td>\n",
              "      <td>3</td>\n",
              "      <td>0</td>\n",
              "    </tr>\n",
              "  </tbody>\n",
              "</table>\n",
              "</div>\n",
              "    <div class=\"colab-df-buttons\">\n",
              "\n",
              "  <div class=\"colab-df-container\">\n",
              "    <button class=\"colab-df-convert\" onclick=\"convertToInteractive('df-b6923f12-4731-4386-bf17-fd99abde9ac4')\"\n",
              "            title=\"Convert this dataframe to an interactive table.\"\n",
              "            style=\"display:none;\">\n",
              "\n",
              "  <svg xmlns=\"http://www.w3.org/2000/svg\" height=\"24px\" viewBox=\"0 -960 960 960\">\n",
              "    <path d=\"M120-120v-720h720v720H120Zm60-500h600v-160H180v160Zm220 220h160v-160H400v160Zm0 220h160v-160H400v160ZM180-400h160v-160H180v160Zm440 0h160v-160H620v160ZM180-180h160v-160H180v160Zm440 0h160v-160H620v160Z\"/>\n",
              "  </svg>\n",
              "    </button>\n",
              "\n",
              "  <style>\n",
              "    .colab-df-container {\n",
              "      display:flex;\n",
              "      gap: 12px;\n",
              "    }\n",
              "\n",
              "    .colab-df-convert {\n",
              "      background-color: #E8F0FE;\n",
              "      border: none;\n",
              "      border-radius: 50%;\n",
              "      cursor: pointer;\n",
              "      display: none;\n",
              "      fill: #1967D2;\n",
              "      height: 32px;\n",
              "      padding: 0 0 0 0;\n",
              "      width: 32px;\n",
              "    }\n",
              "\n",
              "    .colab-df-convert:hover {\n",
              "      background-color: #E2EBFA;\n",
              "      box-shadow: 0px 1px 2px rgba(60, 64, 67, 0.3), 0px 1px 3px 1px rgba(60, 64, 67, 0.15);\n",
              "      fill: #174EA6;\n",
              "    }\n",
              "\n",
              "    .colab-df-buttons div {\n",
              "      margin-bottom: 4px;\n",
              "    }\n",
              "\n",
              "    [theme=dark] .colab-df-convert {\n",
              "      background-color: #3B4455;\n",
              "      fill: #D2E3FC;\n",
              "    }\n",
              "\n",
              "    [theme=dark] .colab-df-convert:hover {\n",
              "      background-color: #434B5C;\n",
              "      box-shadow: 0px 1px 3px 1px rgba(0, 0, 0, 0.15);\n",
              "      filter: drop-shadow(0px 1px 2px rgba(0, 0, 0, 0.3));\n",
              "      fill: #FFFFFF;\n",
              "    }\n",
              "  </style>\n",
              "\n",
              "    <script>\n",
              "      const buttonEl =\n",
              "        document.querySelector('#df-b6923f12-4731-4386-bf17-fd99abde9ac4 button.colab-df-convert');\n",
              "      buttonEl.style.display =\n",
              "        google.colab.kernel.accessAllowed ? 'block' : 'none';\n",
              "\n",
              "      async function convertToInteractive(key) {\n",
              "        const element = document.querySelector('#df-b6923f12-4731-4386-bf17-fd99abde9ac4');\n",
              "        const dataTable =\n",
              "          await google.colab.kernel.invokeFunction('convertToInteractive',\n",
              "                                                    [key], {});\n",
              "        if (!dataTable) return;\n",
              "\n",
              "        const docLinkHtml = 'Like what you see? Visit the ' +\n",
              "          '<a target=\"_blank\" href=https://colab.research.google.com/notebooks/data_table.ipynb>data table notebook</a>'\n",
              "          + ' to learn more about interactive tables.';\n",
              "        element.innerHTML = '';\n",
              "        dataTable['output_type'] = 'display_data';\n",
              "        await google.colab.output.renderOutput(dataTable, element);\n",
              "        const docLink = document.createElement('div');\n",
              "        docLink.innerHTML = docLinkHtml;\n",
              "        element.appendChild(docLink);\n",
              "      }\n",
              "    </script>\n",
              "  </div>\n",
              "\n",
              "\n",
              "<div id=\"df-aebac467-a339-48d7-9677-a120c2d3a4ac\">\n",
              "  <button class=\"colab-df-quickchart\" onclick=\"quickchart('df-aebac467-a339-48d7-9677-a120c2d3a4ac')\"\n",
              "            title=\"Suggest charts.\"\n",
              "            style=\"display:none;\">\n",
              "\n",
              "<svg xmlns=\"http://www.w3.org/2000/svg\" height=\"24px\"viewBox=\"0 0 24 24\"\n",
              "     width=\"24px\">\n",
              "    <g>\n",
              "        <path d=\"M19 3H5c-1.1 0-2 .9-2 2v14c0 1.1.9 2 2 2h14c1.1 0 2-.9 2-2V5c0-1.1-.9-2-2-2zM9 17H7v-7h2v7zm4 0h-2V7h2v10zm4 0h-2v-4h2v4z\"/>\n",
              "    </g>\n",
              "</svg>\n",
              "  </button>\n",
              "\n",
              "<style>\n",
              "  .colab-df-quickchart {\n",
              "      --bg-color: #E8F0FE;\n",
              "      --fill-color: #1967D2;\n",
              "      --hover-bg-color: #E2EBFA;\n",
              "      --hover-fill-color: #174EA6;\n",
              "      --disabled-fill-color: #AAA;\n",
              "      --disabled-bg-color: #DDD;\n",
              "  }\n",
              "\n",
              "  [theme=dark] .colab-df-quickchart {\n",
              "      --bg-color: #3B4455;\n",
              "      --fill-color: #D2E3FC;\n",
              "      --hover-bg-color: #434B5C;\n",
              "      --hover-fill-color: #FFFFFF;\n",
              "      --disabled-bg-color: #3B4455;\n",
              "      --disabled-fill-color: #666;\n",
              "  }\n",
              "\n",
              "  .colab-df-quickchart {\n",
              "    background-color: var(--bg-color);\n",
              "    border: none;\n",
              "    border-radius: 50%;\n",
              "    cursor: pointer;\n",
              "    display: none;\n",
              "    fill: var(--fill-color);\n",
              "    height: 32px;\n",
              "    padding: 0;\n",
              "    width: 32px;\n",
              "  }\n",
              "\n",
              "  .colab-df-quickchart:hover {\n",
              "    background-color: var(--hover-bg-color);\n",
              "    box-shadow: 0 1px 2px rgba(60, 64, 67, 0.3), 0 1px 3px 1px rgba(60, 64, 67, 0.15);\n",
              "    fill: var(--button-hover-fill-color);\n",
              "  }\n",
              "\n",
              "  .colab-df-quickchart-complete:disabled,\n",
              "  .colab-df-quickchart-complete:disabled:hover {\n",
              "    background-color: var(--disabled-bg-color);\n",
              "    fill: var(--disabled-fill-color);\n",
              "    box-shadow: none;\n",
              "  }\n",
              "\n",
              "  .colab-df-spinner {\n",
              "    border: 2px solid var(--fill-color);\n",
              "    border-color: transparent;\n",
              "    border-bottom-color: var(--fill-color);\n",
              "    animation:\n",
              "      spin 1s steps(1) infinite;\n",
              "  }\n",
              "\n",
              "  @keyframes spin {\n",
              "    0% {\n",
              "      border-color: transparent;\n",
              "      border-bottom-color: var(--fill-color);\n",
              "      border-left-color: var(--fill-color);\n",
              "    }\n",
              "    20% {\n",
              "      border-color: transparent;\n",
              "      border-left-color: var(--fill-color);\n",
              "      border-top-color: var(--fill-color);\n",
              "    }\n",
              "    30% {\n",
              "      border-color: transparent;\n",
              "      border-left-color: var(--fill-color);\n",
              "      border-top-color: var(--fill-color);\n",
              "      border-right-color: var(--fill-color);\n",
              "    }\n",
              "    40% {\n",
              "      border-color: transparent;\n",
              "      border-right-color: var(--fill-color);\n",
              "      border-top-color: var(--fill-color);\n",
              "    }\n",
              "    60% {\n",
              "      border-color: transparent;\n",
              "      border-right-color: var(--fill-color);\n",
              "    }\n",
              "    80% {\n",
              "      border-color: transparent;\n",
              "      border-right-color: var(--fill-color);\n",
              "      border-bottom-color: var(--fill-color);\n",
              "    }\n",
              "    90% {\n",
              "      border-color: transparent;\n",
              "      border-bottom-color: var(--fill-color);\n",
              "    }\n",
              "  }\n",
              "</style>\n",
              "\n",
              "  <script>\n",
              "    async function quickchart(key) {\n",
              "      const quickchartButtonEl =\n",
              "        document.querySelector('#' + key + ' button');\n",
              "      quickchartButtonEl.disabled = true;  // To prevent multiple clicks.\n",
              "      quickchartButtonEl.classList.add('colab-df-spinner');\n",
              "      try {\n",
              "        const charts = await google.colab.kernel.invokeFunction(\n",
              "            'suggestCharts', [key], {});\n",
              "      } catch (error) {\n",
              "        console.error('Error during call to suggestCharts:', error);\n",
              "      }\n",
              "      quickchartButtonEl.classList.remove('colab-df-spinner');\n",
              "      quickchartButtonEl.classList.add('colab-df-quickchart-complete');\n",
              "    }\n",
              "    (() => {\n",
              "      let quickchartButtonEl =\n",
              "        document.querySelector('#df-aebac467-a339-48d7-9677-a120c2d3a4ac button');\n",
              "      quickchartButtonEl.style.display =\n",
              "        google.colab.kernel.accessAllowed ? 'block' : 'none';\n",
              "    })();\n",
              "  </script>\n",
              "</div>\n",
              "    </div>\n",
              "  </div>\n"
            ]
          },
          "metadata": {},
          "execution_count": 5
        }
      ]
    },
    {
      "cell_type": "code",
      "source": [
        "df.describe()"
      ],
      "metadata": {
        "colab": {
          "base_uri": "https://localhost:8080/",
          "height": 320
        },
        "id": "DYfFg0_NmMiI",
        "outputId": "e51a32eb-849c-44dc-f77d-8e99998ddb11"
      },
      "execution_count": 6,
      "outputs": [
        {
          "output_type": "execute_result",
          "data": {
            "text/plain": [
              "               age          sex           cp     trestbps        chol  \\\n",
              "count  1025.000000  1025.000000  1025.000000  1025.000000  1025.00000   \n",
              "mean     54.434146     0.695610     0.942439   131.611707   246.00000   \n",
              "std       9.072290     0.460373     1.029641    17.516718    51.59251   \n",
              "min      29.000000     0.000000     0.000000    94.000000   126.00000   \n",
              "25%      48.000000     0.000000     0.000000   120.000000   211.00000   \n",
              "50%      56.000000     1.000000     1.000000   130.000000   240.00000   \n",
              "75%      61.000000     1.000000     2.000000   140.000000   275.00000   \n",
              "max      77.000000     1.000000     3.000000   200.000000   564.00000   \n",
              "\n",
              "               fbs      restecg      thalach        exang      oldpeak  \\\n",
              "count  1025.000000  1025.000000  1025.000000  1025.000000  1025.000000   \n",
              "mean      0.149268     0.529756   149.114146     0.336585     1.071512   \n",
              "std       0.356527     0.527878    23.005724     0.472772     1.175053   \n",
              "min       0.000000     0.000000    71.000000     0.000000     0.000000   \n",
              "25%       0.000000     0.000000   132.000000     0.000000     0.000000   \n",
              "50%       0.000000     1.000000   152.000000     0.000000     0.800000   \n",
              "75%       0.000000     1.000000   166.000000     1.000000     1.800000   \n",
              "max       1.000000     2.000000   202.000000     1.000000     6.200000   \n",
              "\n",
              "             slope           ca         thal       target  \n",
              "count  1025.000000  1025.000000  1025.000000  1025.000000  \n",
              "mean      1.385366     0.754146     2.323902     0.513171  \n",
              "std       0.617755     1.030798     0.620660     0.500070  \n",
              "min       0.000000     0.000000     0.000000     0.000000  \n",
              "25%       1.000000     0.000000     2.000000     0.000000  \n",
              "50%       1.000000     0.000000     2.000000     1.000000  \n",
              "75%       2.000000     1.000000     3.000000     1.000000  \n",
              "max       2.000000     4.000000     3.000000     1.000000  "
            ],
            "text/html": [
              "\n",
              "  <div id=\"df-e726f509-c17d-4652-99e5-32132446fe05\" class=\"colab-df-container\">\n",
              "    <div>\n",
              "<style scoped>\n",
              "    .dataframe tbody tr th:only-of-type {\n",
              "        vertical-align: middle;\n",
              "    }\n",
              "\n",
              "    .dataframe tbody tr th {\n",
              "        vertical-align: top;\n",
              "    }\n",
              "\n",
              "    .dataframe thead th {\n",
              "        text-align: right;\n",
              "    }\n",
              "</style>\n",
              "<table border=\"1\" class=\"dataframe\">\n",
              "  <thead>\n",
              "    <tr style=\"text-align: right;\">\n",
              "      <th></th>\n",
              "      <th>age</th>\n",
              "      <th>sex</th>\n",
              "      <th>cp</th>\n",
              "      <th>trestbps</th>\n",
              "      <th>chol</th>\n",
              "      <th>fbs</th>\n",
              "      <th>restecg</th>\n",
              "      <th>thalach</th>\n",
              "      <th>exang</th>\n",
              "      <th>oldpeak</th>\n",
              "      <th>slope</th>\n",
              "      <th>ca</th>\n",
              "      <th>thal</th>\n",
              "      <th>target</th>\n",
              "    </tr>\n",
              "  </thead>\n",
              "  <tbody>\n",
              "    <tr>\n",
              "      <th>count</th>\n",
              "      <td>1025.000000</td>\n",
              "      <td>1025.000000</td>\n",
              "      <td>1025.000000</td>\n",
              "      <td>1025.000000</td>\n",
              "      <td>1025.00000</td>\n",
              "      <td>1025.000000</td>\n",
              "      <td>1025.000000</td>\n",
              "      <td>1025.000000</td>\n",
              "      <td>1025.000000</td>\n",
              "      <td>1025.000000</td>\n",
              "      <td>1025.000000</td>\n",
              "      <td>1025.000000</td>\n",
              "      <td>1025.000000</td>\n",
              "      <td>1025.000000</td>\n",
              "    </tr>\n",
              "    <tr>\n",
              "      <th>mean</th>\n",
              "      <td>54.434146</td>\n",
              "      <td>0.695610</td>\n",
              "      <td>0.942439</td>\n",
              "      <td>131.611707</td>\n",
              "      <td>246.00000</td>\n",
              "      <td>0.149268</td>\n",
              "      <td>0.529756</td>\n",
              "      <td>149.114146</td>\n",
              "      <td>0.336585</td>\n",
              "      <td>1.071512</td>\n",
              "      <td>1.385366</td>\n",
              "      <td>0.754146</td>\n",
              "      <td>2.323902</td>\n",
              "      <td>0.513171</td>\n",
              "    </tr>\n",
              "    <tr>\n",
              "      <th>std</th>\n",
              "      <td>9.072290</td>\n",
              "      <td>0.460373</td>\n",
              "      <td>1.029641</td>\n",
              "      <td>17.516718</td>\n",
              "      <td>51.59251</td>\n",
              "      <td>0.356527</td>\n",
              "      <td>0.527878</td>\n",
              "      <td>23.005724</td>\n",
              "      <td>0.472772</td>\n",
              "      <td>1.175053</td>\n",
              "      <td>0.617755</td>\n",
              "      <td>1.030798</td>\n",
              "      <td>0.620660</td>\n",
              "      <td>0.500070</td>\n",
              "    </tr>\n",
              "    <tr>\n",
              "      <th>min</th>\n",
              "      <td>29.000000</td>\n",
              "      <td>0.000000</td>\n",
              "      <td>0.000000</td>\n",
              "      <td>94.000000</td>\n",
              "      <td>126.00000</td>\n",
              "      <td>0.000000</td>\n",
              "      <td>0.000000</td>\n",
              "      <td>71.000000</td>\n",
              "      <td>0.000000</td>\n",
              "      <td>0.000000</td>\n",
              "      <td>0.000000</td>\n",
              "      <td>0.000000</td>\n",
              "      <td>0.000000</td>\n",
              "      <td>0.000000</td>\n",
              "    </tr>\n",
              "    <tr>\n",
              "      <th>25%</th>\n",
              "      <td>48.000000</td>\n",
              "      <td>0.000000</td>\n",
              "      <td>0.000000</td>\n",
              "      <td>120.000000</td>\n",
              "      <td>211.00000</td>\n",
              "      <td>0.000000</td>\n",
              "      <td>0.000000</td>\n",
              "      <td>132.000000</td>\n",
              "      <td>0.000000</td>\n",
              "      <td>0.000000</td>\n",
              "      <td>1.000000</td>\n",
              "      <td>0.000000</td>\n",
              "      <td>2.000000</td>\n",
              "      <td>0.000000</td>\n",
              "    </tr>\n",
              "    <tr>\n",
              "      <th>50%</th>\n",
              "      <td>56.000000</td>\n",
              "      <td>1.000000</td>\n",
              "      <td>1.000000</td>\n",
              "      <td>130.000000</td>\n",
              "      <td>240.00000</td>\n",
              "      <td>0.000000</td>\n",
              "      <td>1.000000</td>\n",
              "      <td>152.000000</td>\n",
              "      <td>0.000000</td>\n",
              "      <td>0.800000</td>\n",
              "      <td>1.000000</td>\n",
              "      <td>0.000000</td>\n",
              "      <td>2.000000</td>\n",
              "      <td>1.000000</td>\n",
              "    </tr>\n",
              "    <tr>\n",
              "      <th>75%</th>\n",
              "      <td>61.000000</td>\n",
              "      <td>1.000000</td>\n",
              "      <td>2.000000</td>\n",
              "      <td>140.000000</td>\n",
              "      <td>275.00000</td>\n",
              "      <td>0.000000</td>\n",
              "      <td>1.000000</td>\n",
              "      <td>166.000000</td>\n",
              "      <td>1.000000</td>\n",
              "      <td>1.800000</td>\n",
              "      <td>2.000000</td>\n",
              "      <td>1.000000</td>\n",
              "      <td>3.000000</td>\n",
              "      <td>1.000000</td>\n",
              "    </tr>\n",
              "    <tr>\n",
              "      <th>max</th>\n",
              "      <td>77.000000</td>\n",
              "      <td>1.000000</td>\n",
              "      <td>3.000000</td>\n",
              "      <td>200.000000</td>\n",
              "      <td>564.00000</td>\n",
              "      <td>1.000000</td>\n",
              "      <td>2.000000</td>\n",
              "      <td>202.000000</td>\n",
              "      <td>1.000000</td>\n",
              "      <td>6.200000</td>\n",
              "      <td>2.000000</td>\n",
              "      <td>4.000000</td>\n",
              "      <td>3.000000</td>\n",
              "      <td>1.000000</td>\n",
              "    </tr>\n",
              "  </tbody>\n",
              "</table>\n",
              "</div>\n",
              "    <div class=\"colab-df-buttons\">\n",
              "\n",
              "  <div class=\"colab-df-container\">\n",
              "    <button class=\"colab-df-convert\" onclick=\"convertToInteractive('df-e726f509-c17d-4652-99e5-32132446fe05')\"\n",
              "            title=\"Convert this dataframe to an interactive table.\"\n",
              "            style=\"display:none;\">\n",
              "\n",
              "  <svg xmlns=\"http://www.w3.org/2000/svg\" height=\"24px\" viewBox=\"0 -960 960 960\">\n",
              "    <path d=\"M120-120v-720h720v720H120Zm60-500h600v-160H180v160Zm220 220h160v-160H400v160Zm0 220h160v-160H400v160ZM180-400h160v-160H180v160Zm440 0h160v-160H620v160ZM180-180h160v-160H180v160Zm440 0h160v-160H620v160Z\"/>\n",
              "  </svg>\n",
              "    </button>\n",
              "\n",
              "  <style>\n",
              "    .colab-df-container {\n",
              "      display:flex;\n",
              "      gap: 12px;\n",
              "    }\n",
              "\n",
              "    .colab-df-convert {\n",
              "      background-color: #E8F0FE;\n",
              "      border: none;\n",
              "      border-radius: 50%;\n",
              "      cursor: pointer;\n",
              "      display: none;\n",
              "      fill: #1967D2;\n",
              "      height: 32px;\n",
              "      padding: 0 0 0 0;\n",
              "      width: 32px;\n",
              "    }\n",
              "\n",
              "    .colab-df-convert:hover {\n",
              "      background-color: #E2EBFA;\n",
              "      box-shadow: 0px 1px 2px rgba(60, 64, 67, 0.3), 0px 1px 3px 1px rgba(60, 64, 67, 0.15);\n",
              "      fill: #174EA6;\n",
              "    }\n",
              "\n",
              "    .colab-df-buttons div {\n",
              "      margin-bottom: 4px;\n",
              "    }\n",
              "\n",
              "    [theme=dark] .colab-df-convert {\n",
              "      background-color: #3B4455;\n",
              "      fill: #D2E3FC;\n",
              "    }\n",
              "\n",
              "    [theme=dark] .colab-df-convert:hover {\n",
              "      background-color: #434B5C;\n",
              "      box-shadow: 0px 1px 3px 1px rgba(0, 0, 0, 0.15);\n",
              "      filter: drop-shadow(0px 1px 2px rgba(0, 0, 0, 0.3));\n",
              "      fill: #FFFFFF;\n",
              "    }\n",
              "  </style>\n",
              "\n",
              "    <script>\n",
              "      const buttonEl =\n",
              "        document.querySelector('#df-e726f509-c17d-4652-99e5-32132446fe05 button.colab-df-convert');\n",
              "      buttonEl.style.display =\n",
              "        google.colab.kernel.accessAllowed ? 'block' : 'none';\n",
              "\n",
              "      async function convertToInteractive(key) {\n",
              "        const element = document.querySelector('#df-e726f509-c17d-4652-99e5-32132446fe05');\n",
              "        const dataTable =\n",
              "          await google.colab.kernel.invokeFunction('convertToInteractive',\n",
              "                                                    [key], {});\n",
              "        if (!dataTable) return;\n",
              "\n",
              "        const docLinkHtml = 'Like what you see? Visit the ' +\n",
              "          '<a target=\"_blank\" href=https://colab.research.google.com/notebooks/data_table.ipynb>data table notebook</a>'\n",
              "          + ' to learn more about interactive tables.';\n",
              "        element.innerHTML = '';\n",
              "        dataTable['output_type'] = 'display_data';\n",
              "        await google.colab.output.renderOutput(dataTable, element);\n",
              "        const docLink = document.createElement('div');\n",
              "        docLink.innerHTML = docLinkHtml;\n",
              "        element.appendChild(docLink);\n",
              "      }\n",
              "    </script>\n",
              "  </div>\n",
              "\n",
              "\n",
              "<div id=\"df-dcc240fb-93b9-4cf1-a51a-4fa1200020ae\">\n",
              "  <button class=\"colab-df-quickchart\" onclick=\"quickchart('df-dcc240fb-93b9-4cf1-a51a-4fa1200020ae')\"\n",
              "            title=\"Suggest charts.\"\n",
              "            style=\"display:none;\">\n",
              "\n",
              "<svg xmlns=\"http://www.w3.org/2000/svg\" height=\"24px\"viewBox=\"0 0 24 24\"\n",
              "     width=\"24px\">\n",
              "    <g>\n",
              "        <path d=\"M19 3H5c-1.1 0-2 .9-2 2v14c0 1.1.9 2 2 2h14c1.1 0 2-.9 2-2V5c0-1.1-.9-2-2-2zM9 17H7v-7h2v7zm4 0h-2V7h2v10zm4 0h-2v-4h2v4z\"/>\n",
              "    </g>\n",
              "</svg>\n",
              "  </button>\n",
              "\n",
              "<style>\n",
              "  .colab-df-quickchart {\n",
              "      --bg-color: #E8F0FE;\n",
              "      --fill-color: #1967D2;\n",
              "      --hover-bg-color: #E2EBFA;\n",
              "      --hover-fill-color: #174EA6;\n",
              "      --disabled-fill-color: #AAA;\n",
              "      --disabled-bg-color: #DDD;\n",
              "  }\n",
              "\n",
              "  [theme=dark] .colab-df-quickchart {\n",
              "      --bg-color: #3B4455;\n",
              "      --fill-color: #D2E3FC;\n",
              "      --hover-bg-color: #434B5C;\n",
              "      --hover-fill-color: #FFFFFF;\n",
              "      --disabled-bg-color: #3B4455;\n",
              "      --disabled-fill-color: #666;\n",
              "  }\n",
              "\n",
              "  .colab-df-quickchart {\n",
              "    background-color: var(--bg-color);\n",
              "    border: none;\n",
              "    border-radius: 50%;\n",
              "    cursor: pointer;\n",
              "    display: none;\n",
              "    fill: var(--fill-color);\n",
              "    height: 32px;\n",
              "    padding: 0;\n",
              "    width: 32px;\n",
              "  }\n",
              "\n",
              "  .colab-df-quickchart:hover {\n",
              "    background-color: var(--hover-bg-color);\n",
              "    box-shadow: 0 1px 2px rgba(60, 64, 67, 0.3), 0 1px 3px 1px rgba(60, 64, 67, 0.15);\n",
              "    fill: var(--button-hover-fill-color);\n",
              "  }\n",
              "\n",
              "  .colab-df-quickchart-complete:disabled,\n",
              "  .colab-df-quickchart-complete:disabled:hover {\n",
              "    background-color: var(--disabled-bg-color);\n",
              "    fill: var(--disabled-fill-color);\n",
              "    box-shadow: none;\n",
              "  }\n",
              "\n",
              "  .colab-df-spinner {\n",
              "    border: 2px solid var(--fill-color);\n",
              "    border-color: transparent;\n",
              "    border-bottom-color: var(--fill-color);\n",
              "    animation:\n",
              "      spin 1s steps(1) infinite;\n",
              "  }\n",
              "\n",
              "  @keyframes spin {\n",
              "    0% {\n",
              "      border-color: transparent;\n",
              "      border-bottom-color: var(--fill-color);\n",
              "      border-left-color: var(--fill-color);\n",
              "    }\n",
              "    20% {\n",
              "      border-color: transparent;\n",
              "      border-left-color: var(--fill-color);\n",
              "      border-top-color: var(--fill-color);\n",
              "    }\n",
              "    30% {\n",
              "      border-color: transparent;\n",
              "      border-left-color: var(--fill-color);\n",
              "      border-top-color: var(--fill-color);\n",
              "      border-right-color: var(--fill-color);\n",
              "    }\n",
              "    40% {\n",
              "      border-color: transparent;\n",
              "      border-right-color: var(--fill-color);\n",
              "      border-top-color: var(--fill-color);\n",
              "    }\n",
              "    60% {\n",
              "      border-color: transparent;\n",
              "      border-right-color: var(--fill-color);\n",
              "    }\n",
              "    80% {\n",
              "      border-color: transparent;\n",
              "      border-right-color: var(--fill-color);\n",
              "      border-bottom-color: var(--fill-color);\n",
              "    }\n",
              "    90% {\n",
              "      border-color: transparent;\n",
              "      border-bottom-color: var(--fill-color);\n",
              "    }\n",
              "  }\n",
              "</style>\n",
              "\n",
              "  <script>\n",
              "    async function quickchart(key) {\n",
              "      const quickchartButtonEl =\n",
              "        document.querySelector('#' + key + ' button');\n",
              "      quickchartButtonEl.disabled = true;  // To prevent multiple clicks.\n",
              "      quickchartButtonEl.classList.add('colab-df-spinner');\n",
              "      try {\n",
              "        const charts = await google.colab.kernel.invokeFunction(\n",
              "            'suggestCharts', [key], {});\n",
              "      } catch (error) {\n",
              "        console.error('Error during call to suggestCharts:', error);\n",
              "      }\n",
              "      quickchartButtonEl.classList.remove('colab-df-spinner');\n",
              "      quickchartButtonEl.classList.add('colab-df-quickchart-complete');\n",
              "    }\n",
              "    (() => {\n",
              "      let quickchartButtonEl =\n",
              "        document.querySelector('#df-dcc240fb-93b9-4cf1-a51a-4fa1200020ae button');\n",
              "      quickchartButtonEl.style.display =\n",
              "        google.colab.kernel.accessAllowed ? 'block' : 'none';\n",
              "    })();\n",
              "  </script>\n",
              "</div>\n",
              "    </div>\n",
              "  </div>\n"
            ]
          },
          "metadata": {},
          "execution_count": 6
        }
      ]
    },
    {
      "cell_type": "code",
      "source": [
        "df.shape"
      ],
      "metadata": {
        "colab": {
          "base_uri": "https://localhost:8080/"
        },
        "id": "PW9P-wxYmXi6",
        "outputId": "376dbd8d-ecdd-4489-8abb-99dc50e0db4d"
      },
      "execution_count": 7,
      "outputs": [
        {
          "output_type": "execute_result",
          "data": {
            "text/plain": [
              "(1025, 14)"
            ]
          },
          "metadata": {},
          "execution_count": 7
        }
      ]
    },
    {
      "cell_type": "code",
      "source": [
        "df.info()"
      ],
      "metadata": {
        "colab": {
          "base_uri": "https://localhost:8080/"
        },
        "id": "t3wmyX_wmd1R",
        "outputId": "317ffd1c-5d6d-4d97-bcab-e43ffbdb133c"
      },
      "execution_count": 8,
      "outputs": [
        {
          "output_type": "stream",
          "name": "stdout",
          "text": [
            "<class 'pandas.core.frame.DataFrame'>\n",
            "RangeIndex: 1025 entries, 0 to 1024\n",
            "Data columns (total 14 columns):\n",
            " #   Column    Non-Null Count  Dtype  \n",
            "---  ------    --------------  -----  \n",
            " 0   age       1025 non-null   int64  \n",
            " 1   sex       1025 non-null   int64  \n",
            " 2   cp        1025 non-null   int64  \n",
            " 3   trestbps  1025 non-null   int64  \n",
            " 4   chol      1025 non-null   int64  \n",
            " 5   fbs       1025 non-null   int64  \n",
            " 6   restecg   1025 non-null   int64  \n",
            " 7   thalach   1025 non-null   int64  \n",
            " 8   exang     1025 non-null   int64  \n",
            " 9   oldpeak   1025 non-null   float64\n",
            " 10  slope     1025 non-null   int64  \n",
            " 11  ca        1025 non-null   int64  \n",
            " 12  thal      1025 non-null   int64  \n",
            " 13  target    1025 non-null   int64  \n",
            "dtypes: float64(1), int64(13)\n",
            "memory usage: 112.2 KB\n"
          ]
        }
      ]
    },
    {
      "cell_type": "code",
      "source": [
        "df.isna().sum()"
      ],
      "metadata": {
        "colab": {
          "base_uri": "https://localhost:8080/"
        },
        "id": "QaeJmgCSmkGy",
        "outputId": "587e375e-c393-44c9-ddff-5afcdc0b7d54"
      },
      "execution_count": 9,
      "outputs": [
        {
          "output_type": "execute_result",
          "data": {
            "text/plain": [
              "age         0\n",
              "sex         0\n",
              "cp          0\n",
              "trestbps    0\n",
              "chol        0\n",
              "fbs         0\n",
              "restecg     0\n",
              "thalach     0\n",
              "exang       0\n",
              "oldpeak     0\n",
              "slope       0\n",
              "ca          0\n",
              "thal        0\n",
              "target      0\n",
              "dtype: int64"
            ]
          },
          "metadata": {},
          "execution_count": 9
        }
      ]
    },
    {
      "cell_type": "code",
      "source": [
        "# checking distribution of the target column, we need to have almost equal number of results\n",
        "# 1 represents defective heart,0 represent the healthy heart\n",
        "df['target'].value_counts()"
      ],
      "metadata": {
        "colab": {
          "base_uri": "https://localhost:8080/"
        },
        "id": "MnQ_FLDTmw-1",
        "outputId": "30f4c3f9-bf24-4bd0-a9e6-350176ef0ee1"
      },
      "execution_count": 10,
      "outputs": [
        {
          "output_type": "execute_result",
          "data": {
            "text/plain": [
              "1    526\n",
              "0    499\n",
              "Name: target, dtype: int64"
            ]
          },
          "metadata": {},
          "execution_count": 10
        }
      ]
    },
    {
      "cell_type": "code",
      "source": [
        "# spliting the features and labelt(target)\n",
        "X= df.drop('target',axis=1)\n",
        "Y=df['target']"
      ],
      "metadata": {
        "id": "Wbo9A6rqnbvp"
      },
      "execution_count": 11,
      "outputs": []
    },
    {
      "cell_type": "code",
      "source": [
        "X"
      ],
      "metadata": {
        "id": "7ekg4uDGoPo8"
      },
      "execution_count": null,
      "outputs": []
    },
    {
      "cell_type": "code",
      "source": [
        "Y"
      ],
      "metadata": {
        "id": "LCDKsCm0obD0"
      },
      "execution_count": null,
      "outputs": []
    },
    {
      "cell_type": "code",
      "source": [
        "#spliting the  data into traning and testing data\n",
        "#X_train containes features of all the traning data, X_test contanies features of all the test data\n",
        "#Y_train containes target of all train features and Y_test  contanies target of testing features\n",
        "#stratify will make the train and testing data to gives equal number that is approxly equal number of 1 and 0 in test and train data of traget column\n",
        "X_train,X_test,Y_train,Y_test=train_test_split(X,Y,test_size=0.2,stratify=Y,random_state=42)"
      ],
      "metadata": {
        "id": "T9T0aZ86oy2d"
      },
      "execution_count": 14,
      "outputs": []
    },
    {
      "cell_type": "code",
      "source": [
        "print(X.shape,X_train.shape,X_test.shape)"
      ],
      "metadata": {
        "colab": {
          "base_uri": "https://localhost:8080/"
        },
        "id": "AYNtIBL-rqFQ",
        "outputId": "951df4b0-9ce2-4e12-8d89-ed081f7879db"
      },
      "execution_count": 15,
      "outputs": [
        {
          "output_type": "stream",
          "name": "stdout",
          "text": [
            "(1025, 13) (820, 13) (205, 13)\n"
          ]
        }
      ]
    },
    {
      "cell_type": "markdown",
      "source": [
        "Model Training"
      ],
      "metadata": {
        "id": "A0MphX6xsEPy"
      }
    },
    {
      "cell_type": "code",
      "source": [
        "#Logistic regression model used for binary classification\n",
        "model=LogisticRegression()"
      ],
      "metadata": {
        "id": "ElKth20pr7g1"
      },
      "execution_count": 16,
      "outputs": []
    },
    {
      "cell_type": "code",
      "source": [
        "#training Logistic regression model with training data\n",
        "model.fit(X_train,Y_train) # it will bulid the mathematical realtion bw the training features and traning label\n",
        "# the above function find the relation b/w the features and lable"
      ],
      "metadata": {
        "colab": {
          "base_uri": "https://localhost:8080/",
          "height": 213
        },
        "id": "Mdk5D21msozy",
        "outputId": "9eef7cf0-1a45-499c-bd42-503a90cdf245"
      },
      "execution_count": 17,
      "outputs": [
        {
          "output_type": "stream",
          "name": "stderr",
          "text": [
            "/usr/local/lib/python3.10/dist-packages/sklearn/linear_model/_logistic.py:458: ConvergenceWarning: lbfgs failed to converge (status=1):\n",
            "STOP: TOTAL NO. of ITERATIONS REACHED LIMIT.\n",
            "\n",
            "Increase the number of iterations (max_iter) or scale the data as shown in:\n",
            "    https://scikit-learn.org/stable/modules/preprocessing.html\n",
            "Please also refer to the documentation for alternative solver options:\n",
            "    https://scikit-learn.org/stable/modules/linear_model.html#logistic-regression\n",
            "  n_iter_i = _check_optimize_result(\n"
          ]
        },
        {
          "output_type": "execute_result",
          "data": {
            "text/plain": [
              "LogisticRegression()"
            ],
            "text/html": [
              "<style>#sk-container-id-1 {color: black;background-color: white;}#sk-container-id-1 pre{padding: 0;}#sk-container-id-1 div.sk-toggleable {background-color: white;}#sk-container-id-1 label.sk-toggleable__label {cursor: pointer;display: block;width: 100%;margin-bottom: 0;padding: 0.3em;box-sizing: border-box;text-align: center;}#sk-container-id-1 label.sk-toggleable__label-arrow:before {content: \"▸\";float: left;margin-right: 0.25em;color: #696969;}#sk-container-id-1 label.sk-toggleable__label-arrow:hover:before {color: black;}#sk-container-id-1 div.sk-estimator:hover label.sk-toggleable__label-arrow:before {color: black;}#sk-container-id-1 div.sk-toggleable__content {max-height: 0;max-width: 0;overflow: hidden;text-align: left;background-color: #f0f8ff;}#sk-container-id-1 div.sk-toggleable__content pre {margin: 0.2em;color: black;border-radius: 0.25em;background-color: #f0f8ff;}#sk-container-id-1 input.sk-toggleable__control:checked~div.sk-toggleable__content {max-height: 200px;max-width: 100%;overflow: auto;}#sk-container-id-1 input.sk-toggleable__control:checked~label.sk-toggleable__label-arrow:before {content: \"▾\";}#sk-container-id-1 div.sk-estimator input.sk-toggleable__control:checked~label.sk-toggleable__label {background-color: #d4ebff;}#sk-container-id-1 div.sk-label input.sk-toggleable__control:checked~label.sk-toggleable__label {background-color: #d4ebff;}#sk-container-id-1 input.sk-hidden--visually {border: 0;clip: rect(1px 1px 1px 1px);clip: rect(1px, 1px, 1px, 1px);height: 1px;margin: -1px;overflow: hidden;padding: 0;position: absolute;width: 1px;}#sk-container-id-1 div.sk-estimator {font-family: monospace;background-color: #f0f8ff;border: 1px dotted black;border-radius: 0.25em;box-sizing: border-box;margin-bottom: 0.5em;}#sk-container-id-1 div.sk-estimator:hover {background-color: #d4ebff;}#sk-container-id-1 div.sk-parallel-item::after {content: \"\";width: 100%;border-bottom: 1px solid gray;flex-grow: 1;}#sk-container-id-1 div.sk-label:hover label.sk-toggleable__label {background-color: #d4ebff;}#sk-container-id-1 div.sk-serial::before {content: \"\";position: absolute;border-left: 1px solid gray;box-sizing: border-box;top: 0;bottom: 0;left: 50%;z-index: 0;}#sk-container-id-1 div.sk-serial {display: flex;flex-direction: column;align-items: center;background-color: white;padding-right: 0.2em;padding-left: 0.2em;position: relative;}#sk-container-id-1 div.sk-item {position: relative;z-index: 1;}#sk-container-id-1 div.sk-parallel {display: flex;align-items: stretch;justify-content: center;background-color: white;position: relative;}#sk-container-id-1 div.sk-item::before, #sk-container-id-1 div.sk-parallel-item::before {content: \"\";position: absolute;border-left: 1px solid gray;box-sizing: border-box;top: 0;bottom: 0;left: 50%;z-index: -1;}#sk-container-id-1 div.sk-parallel-item {display: flex;flex-direction: column;z-index: 1;position: relative;background-color: white;}#sk-container-id-1 div.sk-parallel-item:first-child::after {align-self: flex-end;width: 50%;}#sk-container-id-1 div.sk-parallel-item:last-child::after {align-self: flex-start;width: 50%;}#sk-container-id-1 div.sk-parallel-item:only-child::after {width: 0;}#sk-container-id-1 div.sk-dashed-wrapped {border: 1px dashed gray;margin: 0 0.4em 0.5em 0.4em;box-sizing: border-box;padding-bottom: 0.4em;background-color: white;}#sk-container-id-1 div.sk-label label {font-family: monospace;font-weight: bold;display: inline-block;line-height: 1.2em;}#sk-container-id-1 div.sk-label-container {text-align: center;}#sk-container-id-1 div.sk-container {/* jupyter's `normalize.less` sets `[hidden] { display: none; }` but bootstrap.min.css set `[hidden] { display: none !important; }` so we also need the `!important` here to be able to override the default hidden behavior on the sphinx rendered scikit-learn.org. See: https://github.com/scikit-learn/scikit-learn/issues/21755 */display: inline-block !important;position: relative;}#sk-container-id-1 div.sk-text-repr-fallback {display: none;}</style><div id=\"sk-container-id-1\" class=\"sk-top-container\"><div class=\"sk-text-repr-fallback\"><pre>LogisticRegression()</pre><b>In a Jupyter environment, please rerun this cell to show the HTML representation or trust the notebook. <br />On GitHub, the HTML representation is unable to render, please try loading this page with nbviewer.org.</b></div><div class=\"sk-container\" hidden><div class=\"sk-item\"><div class=\"sk-estimator sk-toggleable\"><input class=\"sk-toggleable__control sk-hidden--visually\" id=\"sk-estimator-id-1\" type=\"checkbox\" checked><label for=\"sk-estimator-id-1\" class=\"sk-toggleable__label sk-toggleable__label-arrow\">LogisticRegression</label><div class=\"sk-toggleable__content\"><pre>LogisticRegression()</pre></div></div></div></div></div>"
            ]
          },
          "metadata": {},
          "execution_count": 17
        }
      ]
    },
    {
      "cell_type": "markdown",
      "source": [
        "Model Evaluation"
      ],
      "metadata": {
        "id": "Th69urMDz_e5"
      }
    },
    {
      "cell_type": "code",
      "source": [
        "#Acuaracy Score\n",
        "#acurracy on traning data\n",
        "X_train_prediction=model.predict(X_train) # it will predict the output of any givenn input\n",
        "training_data_accuracy=accuracy_score(X_train_prediction,Y_train)"
      ],
      "metadata": {
        "id": "hhNN1TfMzacB"
      },
      "execution_count": 18,
      "outputs": []
    },
    {
      "cell_type": "code",
      "source": [
        "print(f\"Accuracy on training data:{training_data_accuracy}\")"
      ],
      "metadata": {
        "colab": {
          "base_uri": "https://localhost:8080/"
        },
        "id": "IdoYRSFH1Q1E",
        "outputId": "6968142a-7b35-4c5d-fc38-0ce66d653898"
      },
      "execution_count": 19,
      "outputs": [
        {
          "output_type": "stream",
          "name": "stdout",
          "text": [
            "Accuracy on training data:0.85\n"
          ]
        }
      ]
    },
    {
      "cell_type": "code",
      "source": [
        "#Acuaracy Score\n",
        "#acurracy on testing data\n",
        "X_test_prediction=model.predict(X_test)\n",
        "testing_data_accuracy=accuracy_score(X_test_prediction,Y_test)"
      ],
      "metadata": {
        "id": "jUrvw5PR1geu"
      },
      "execution_count": 20,
      "outputs": []
    },
    {
      "cell_type": "code",
      "source": [
        "print(f\"Accuracy on testing data:{testing_data_accuracy}\")"
      ],
      "metadata": {
        "colab": {
          "base_uri": "https://localhost:8080/"
        },
        "id": "s8EY5gC52TTJ",
        "outputId": "204a88c6-d7f6-41fb-88e7-8d6dff521eae"
      },
      "execution_count": 21,
      "outputs": [
        {
          "output_type": "stream",
          "name": "stdout",
          "text": [
            "Accuracy on testing data:0.8341463414634146\n"
          ]
        }
      ]
    },
    {
      "cell_type": "code",
      "source": [
        "#if accuracy of traning is too large and accuracy on testing data is small then our model is overfited\n",
        "#means model is overlearnt, in the above there is no overfting issue"
      ],
      "metadata": {
        "id": "DxMYl0wy2gmT"
      },
      "execution_count": null,
      "outputs": []
    },
    {
      "cell_type": "markdown",
      "source": [
        "Building a predective system"
      ],
      "metadata": {
        "id": "H7NsxRZz4A2Z"
      }
    },
    {
      "cell_type": "code",
      "source": [
        "input_data=(54,1,0,122,286,0,0,116,1,3.2,1,2,2)\n",
        "# change the input data into numpy array\n",
        "input_data_as_numpy_array=np.asarray(input_data)\n",
        "# reshape the nupy array as we are predecting only one data point\n",
        "input_data_reshaped =input_data_as_numpy_array.reshape(1,-1)\n",
        "prediction=model.predict(input_data_reshaped)\n",
        "print(prediction)\n",
        "if prediction[0]==0:\n",
        "  print(\"The Person does not have Heart Disease\")\n",
        "else:\n",
        "  print(\"The Person as Heart Disease\")"
      ],
      "metadata": {
        "colab": {
          "base_uri": "https://localhost:8080/"
        },
        "id": "wpc1XBKi4Gq8",
        "outputId": "ed943d40-c717-4d18-af81-e7ddcc9a50c8"
      },
      "execution_count": 22,
      "outputs": [
        {
          "output_type": "stream",
          "name": "stdout",
          "text": [
            "[0]\n",
            "The Person does not have Heart Disease\n"
          ]
        },
        {
          "output_type": "stream",
          "name": "stderr",
          "text": [
            "/usr/local/lib/python3.10/dist-packages/sklearn/base.py:439: UserWarning: X does not have valid feature names, but LogisticRegression was fitted with feature names\n",
            "  warnings.warn(\n"
          ]
        }
      ]
    },
    {
      "cell_type": "code",
      "source": [
        "from sklearn.tree import DecisionTreeClassifier\n",
        "from sklearn.ensemble import RandomForestClassifier\n",
        "from sklearn.svm import SVC\n",
        "from sklearn.neighbors import KNeighborsClassifier\n",
        "from sklearn.naive_bayes import GaussianNB"
      ],
      "metadata": {
        "id": "xdM3UXML5c2d"
      },
      "execution_count": 23,
      "outputs": []
    },
    {
      "cell_type": "markdown",
      "source": [
        "Decision Tree"
      ],
      "metadata": {
        "id": "DpxyvDAi8c3A"
      }
    },
    {
      "cell_type": "code",
      "source": [
        "model1=DecisionTreeClassifier()\n",
        "model1.fit(X_train,Y_train)\n",
        "X_train_prediction1=model1.predict(X_train)\n",
        "training_data_accuracy1=accuracy_score(X_train_prediction1,Y_train)\n",
        "print(f\"Accuracy on training data:{training_data_accuracy1}\")\n",
        "X_test_prediction1=model1.predict(X_test)\n",
        "testing_data_accuracy1=accuracy_score(X_test_prediction1,Y_test)\n",
        "print(f\"Accuracy on testing data:{testing_data_accuracy1}\")"
      ],
      "metadata": {
        "colab": {
          "base_uri": "https://localhost:8080/"
        },
        "id": "38-zCeU47cMq",
        "outputId": "13d0e057-ada5-4630-fa72-131deb713e6e"
      },
      "execution_count": 24,
      "outputs": [
        {
          "output_type": "stream",
          "name": "stdout",
          "text": [
            "Accuracy on training data:1.0\n",
            "Accuracy on testing data:0.9853658536585366\n"
          ]
        }
      ]
    },
    {
      "cell_type": "markdown",
      "source": [
        "Random Forest"
      ],
      "metadata": {
        "id": "dgYJ0anu9AvR"
      }
    },
    {
      "cell_type": "code",
      "source": [
        "model2 = RandomForestClassifier()\n",
        "model2.fit(X_train, Y_train)\n",
        "X_train_prediction2 = model2.predict(X_train)\n",
        "training_data_accuracy2 = accuracy_score(X_train_prediction2, Y_train)\n",
        "print(f\"Accuracy on training data (Random Forest): {training_data_accuracy2}\")\n",
        "X_test_prediction2 = model2.predict(X_test)\n",
        "testing_data_accuracy2 = accuracy_score(X_test_prediction2, Y_test)\n",
        "print(f\"Accuracy on testing data (Random Forest): {testing_data_accuracy2}\")"
      ],
      "metadata": {
        "colab": {
          "base_uri": "https://localhost:8080/"
        },
        "id": "7ceXVXlC8T9y",
        "outputId": "9fc77bfe-0bf8-4c47-db89-94858b0e9e42"
      },
      "execution_count": 25,
      "outputs": [
        {
          "output_type": "stream",
          "name": "stdout",
          "text": [
            "Accuracy on training data (Random Forest): 1.0\n",
            "Accuracy on testing data (Random Forest): 1.0\n"
          ]
        }
      ]
    },
    {
      "cell_type": "markdown",
      "source": [
        "Support Vector Machine"
      ],
      "metadata": {
        "id": "F848Ndyd9YJV"
      }
    },
    {
      "cell_type": "code",
      "source": [
        "model3 = SVC()\n",
        "model3.fit(X_train, Y_train)\n",
        "X_train_prediction3 = model3.predict(X_train)\n",
        "training_data_accuracy3 = accuracy_score(X_train_prediction3, Y_train)\n",
        "print(f\"Accuracy on training data (SVM): {training_data_accuracy3}\")\n",
        "X_test_prediction3 = model3.predict(X_test)\n",
        "testing_data_accuracy3 = accuracy_score(X_test_prediction3, Y_test)\n",
        "print(f\"Accuracy on testing data (SVM): {testing_data_accuracy3}\")"
      ],
      "metadata": {
        "colab": {
          "base_uri": "https://localhost:8080/"
        },
        "id": "XsnAlJHm9JQv",
        "outputId": "8a8cef96-2220-408a-9dc9-da026359bff9"
      },
      "execution_count": 26,
      "outputs": [
        {
          "output_type": "stream",
          "name": "stdout",
          "text": [
            "Accuracy on training data (SVM): 0.7073170731707317\n",
            "Accuracy on testing data (SVM): 0.7170731707317073\n"
          ]
        }
      ]
    },
    {
      "cell_type": "markdown",
      "source": [
        "KNN"
      ],
      "metadata": {
        "id": "C-SZu32c9bcw"
      }
    },
    {
      "cell_type": "code",
      "source": [
        "model4 = KNeighborsClassifier()\n",
        "model4.fit(X_train, Y_train)\n",
        "X_train_prediction4 = model4.predict(X_train)\n",
        "training_data_accuracy4 = accuracy_score(X_train_prediction4, Y_train)\n",
        "print(f\"Accuracy on training data (KNN): {training_data_accuracy4}\")\n",
        "X_test_prediction4 = model4.predict(X_test)\n",
        "testing_data_accuracy4 = accuracy_score(X_test_prediction4, Y_test)\n",
        "print(f\"Accuracy on testing data (KNN): {testing_data_accuracy4}\")"
      ],
      "metadata": {
        "colab": {
          "base_uri": "https://localhost:8080/"
        },
        "id": "yF7K6_Cy9Nck",
        "outputId": "65bd1d0b-a4d3-430a-ae06-8f317d0874a8"
      },
      "execution_count": 27,
      "outputs": [
        {
          "output_type": "stream",
          "name": "stdout",
          "text": [
            "Accuracy on training data (KNN): 0.9170731707317074\n",
            "Accuracy on testing data (KNN): 0.697560975609756\n"
          ]
        }
      ]
    },
    {
      "cell_type": "markdown",
      "source": [
        "Naive Bayes"
      ],
      "metadata": {
        "id": "uNZxbcY59eIs"
      }
    },
    {
      "cell_type": "code",
      "source": [
        "model5 = GaussianNB()\n",
        "model5.fit(X_train, Y_train)\n",
        "X_train_prediction5 = model5.predict(X_train)\n",
        "training_data_accuracy5 = accuracy_score(X_train_prediction5, Y_train)\n",
        "print(f\"Accuracy on training data (Naive Bayes): {training_data_accuracy5}\")\n",
        "X_test_prediction5 = model5.predict(X_test)\n",
        "testing_data_accuracy5 = accuracy_score(X_test_prediction5, Y_test)\n",
        "print(f\"Accuracy on testing data (Naive Bayes): {testing_data_accuracy5}\")"
      ],
      "metadata": {
        "colab": {
          "base_uri": "https://localhost:8080/"
        },
        "id": "gslrEa699QQx",
        "outputId": "711fd7a4-5d05-4568-f883-6a73483e9a86"
      },
      "execution_count": 28,
      "outputs": [
        {
          "output_type": "stream",
          "name": "stdout",
          "text": [
            "Accuracy on training data (Naive Bayes): 0.8304878048780487\n",
            "Accuracy on testing data (Naive Bayes): 0.8292682926829268\n"
          ]
        }
      ]
    },
    {
      "cell_type": "markdown",
      "source": [
        "# Deep Learning"
      ],
      "metadata": {
        "id": "LGQwnUu972PS"
      }
    },
    {
      "cell_type": "code",
      "source": [
        "# Import required libraries\n",
        "import pandas as pd\n",
        "import numpy as np\n",
        "import matplotlib.pyplot as plt\n",
        "import sklearn\n",
        "\n",
        "# Import necessary modules\n",
        "from sklearn.model_selection import train_test_split\n",
        "from sklearn.metrics import mean_squared_error\n",
        "from math import sqrt\n",
        "\n",
        "# Keras specific\n",
        "import keras\n",
        "from keras.models import Sequential\n",
        "from keras.layers import Dense\n",
        "from keras.utils import to_categorical\n",
        "\n",
        "#Load the CSV file\n",
        "df = pd.read_csv(\"heart.csv\")\n",
        "\n",
        "# Split the data into features and target\n",
        "x=df.drop('target',axis=1)#Delete the target column to form Features\n",
        "y=df['target']# This forms the Label\n",
        "\n",
        "# Split the data into training and testing sets\n",
        "x_train,x_test,y_train,y_test = train_test_split(x,y,test_size=0.25,random_state=42)\n",
        "\n",
        "#Defining the Model\n",
        "model = Sequential()\n",
        "model.add(Dense(500, activation='relu', input_dim=13)) #Input Layer\n",
        "\n",
        "#Creating the Hidden Layers\n",
        "model.add(Dense(100, activation='relu'))\n",
        "model.add(Dense(100, activation='relu'))\n",
        "model.add(Dense(50, activation='relu'))\n",
        "model.add(Dense(1, activation='sigmoid')) #Output Layer\n",
        "\n",
        "# Compile the model\n",
        "model.compile(optimizer='adam',\n",
        "              loss='binary_crossentropy',\n",
        "              metrics=['accuracy'])\n",
        "model.fit(x_train,y_train, epochs=200)\n",
        "loss, accuracy = model.evaluate(x_test, y_test)\n",
        "\n",
        "#Print the accuracy\n",
        "print('Accuracy:', accuracy)"
      ],
      "metadata": {
        "colab": {
          "base_uri": "https://localhost:8080/"
        },
        "id": "ebL9crq477tv",
        "outputId": "a06c3b5d-f1e8-4043-dc00-c80fc718cccf"
      },
      "execution_count": 29,
      "outputs": [
        {
          "output_type": "stream",
          "name": "stdout",
          "text": [
            "Epoch 1/200\n",
            "24/24 [==============================] - 1s 3ms/step - loss: 0.9728 - accuracy: 0.6237\n",
            "Epoch 2/200\n",
            "24/24 [==============================] - 0s 3ms/step - loss: 0.6136 - accuracy: 0.6602\n",
            "Epoch 3/200\n",
            "24/24 [==============================] - 0s 3ms/step - loss: 0.6508 - accuracy: 0.6432\n",
            "Epoch 4/200\n",
            "24/24 [==============================] - 0s 3ms/step - loss: 0.5596 - accuracy: 0.7240\n",
            "Epoch 5/200\n",
            "24/24 [==============================] - 0s 4ms/step - loss: 0.5505 - accuracy: 0.7109\n",
            "Epoch 6/200\n",
            "24/24 [==============================] - 0s 3ms/step - loss: 0.5198 - accuracy: 0.7396\n",
            "Epoch 7/200\n",
            "24/24 [==============================] - 0s 3ms/step - loss: 0.4906 - accuracy: 0.7734\n",
            "Epoch 8/200\n",
            "24/24 [==============================] - 0s 4ms/step - loss: 0.4984 - accuracy: 0.7435\n",
            "Epoch 9/200\n",
            "24/24 [==============================] - 0s 4ms/step - loss: 0.5462 - accuracy: 0.7266\n",
            "Epoch 10/200\n",
            "24/24 [==============================] - 0s 3ms/step - loss: 0.4382 - accuracy: 0.7995\n",
            "Epoch 11/200\n",
            "24/24 [==============================] - 0s 4ms/step - loss: 0.4316 - accuracy: 0.8099\n",
            "Epoch 12/200\n",
            "24/24 [==============================] - 0s 3ms/step - loss: 0.4602 - accuracy: 0.7839\n",
            "Epoch 13/200\n",
            "24/24 [==============================] - 0s 3ms/step - loss: 0.3932 - accuracy: 0.8060\n",
            "Epoch 14/200\n",
            "24/24 [==============================] - 0s 3ms/step - loss: 0.4236 - accuracy: 0.8099\n",
            "Epoch 15/200\n",
            "24/24 [==============================] - 0s 3ms/step - loss: 0.4652 - accuracy: 0.7891\n",
            "Epoch 16/200\n",
            "24/24 [==============================] - 0s 3ms/step - loss: 0.4132 - accuracy: 0.8177\n",
            "Epoch 17/200\n",
            "24/24 [==============================] - 0s 3ms/step - loss: 0.3981 - accuracy: 0.8255\n",
            "Epoch 18/200\n",
            "24/24 [==============================] - 0s 5ms/step - loss: 0.4320 - accuracy: 0.7943\n",
            "Epoch 19/200\n",
            "24/24 [==============================] - 0s 5ms/step - loss: 0.3815 - accuracy: 0.8333\n",
            "Epoch 20/200\n",
            "24/24 [==============================] - 0s 5ms/step - loss: 0.3514 - accuracy: 0.8411\n",
            "Epoch 21/200\n",
            "24/24 [==============================] - 0s 5ms/step - loss: 0.3953 - accuracy: 0.8125\n",
            "Epoch 22/200\n",
            "24/24 [==============================] - 0s 5ms/step - loss: 0.4041 - accuracy: 0.8125\n",
            "Epoch 23/200\n",
            "24/24 [==============================] - 0s 5ms/step - loss: 0.4096 - accuracy: 0.8151\n",
            "Epoch 24/200\n",
            "24/24 [==============================] - 0s 5ms/step - loss: 0.4074 - accuracy: 0.8125\n",
            "Epoch 25/200\n",
            "24/24 [==============================] - 0s 5ms/step - loss: 0.3628 - accuracy: 0.8542\n",
            "Epoch 26/200\n",
            "24/24 [==============================] - 0s 5ms/step - loss: 0.3818 - accuracy: 0.8242\n",
            "Epoch 27/200\n",
            "24/24 [==============================] - 0s 5ms/step - loss: 0.4569 - accuracy: 0.7891\n",
            "Epoch 28/200\n",
            "24/24 [==============================] - 0s 5ms/step - loss: 0.3680 - accuracy: 0.8451\n",
            "Epoch 29/200\n",
            "24/24 [==============================] - 0s 6ms/step - loss: 0.3589 - accuracy: 0.8542\n",
            "Epoch 30/200\n",
            "24/24 [==============================] - 0s 5ms/step - loss: 0.4237 - accuracy: 0.8125\n",
            "Epoch 31/200\n",
            "24/24 [==============================] - 0s 6ms/step - loss: 0.3491 - accuracy: 0.8555\n",
            "Epoch 32/200\n",
            "24/24 [==============================] - 0s 6ms/step - loss: 0.3838 - accuracy: 0.8177\n",
            "Epoch 33/200\n",
            "24/24 [==============================] - 0s 6ms/step - loss: 0.3559 - accuracy: 0.8451\n",
            "Epoch 34/200\n",
            "24/24 [==============================] - 0s 6ms/step - loss: 0.3817 - accuracy: 0.8268\n",
            "Epoch 35/200\n",
            "24/24 [==============================] - 0s 6ms/step - loss: 0.3500 - accuracy: 0.8477\n",
            "Epoch 36/200\n",
            "24/24 [==============================] - 0s 6ms/step - loss: 0.3690 - accuracy: 0.8359\n",
            "Epoch 37/200\n",
            "24/24 [==============================] - 0s 5ms/step - loss: 0.3533 - accuracy: 0.8490\n",
            "Epoch 38/200\n",
            "24/24 [==============================] - 0s 6ms/step - loss: 0.3330 - accuracy: 0.8672\n",
            "Epoch 39/200\n",
            "24/24 [==============================] - 0s 6ms/step - loss: 0.3459 - accuracy: 0.8451\n",
            "Epoch 40/200\n",
            "24/24 [==============================] - 0s 5ms/step - loss: 0.3337 - accuracy: 0.8633\n",
            "Epoch 41/200\n",
            "24/24 [==============================] - 0s 4ms/step - loss: 0.3303 - accuracy: 0.8698\n",
            "Epoch 42/200\n",
            "24/24 [==============================] - 0s 4ms/step - loss: 0.3270 - accuracy: 0.8633\n",
            "Epoch 43/200\n",
            "24/24 [==============================] - 0s 3ms/step - loss: 0.3356 - accuracy: 0.8529\n",
            "Epoch 44/200\n",
            "24/24 [==============================] - 0s 3ms/step - loss: 0.3412 - accuracy: 0.8542\n",
            "Epoch 45/200\n",
            "24/24 [==============================] - 0s 4ms/step - loss: 0.3697 - accuracy: 0.8398\n",
            "Epoch 46/200\n",
            "24/24 [==============================] - 0s 3ms/step - loss: 0.3712 - accuracy: 0.8372\n",
            "Epoch 47/200\n",
            "24/24 [==============================] - 0s 3ms/step - loss: 0.3201 - accuracy: 0.8607\n",
            "Epoch 48/200\n",
            "24/24 [==============================] - 0s 4ms/step - loss: 0.3395 - accuracy: 0.8607\n",
            "Epoch 49/200\n",
            "24/24 [==============================] - 0s 4ms/step - loss: 0.3123 - accuracy: 0.8698\n",
            "Epoch 50/200\n",
            "24/24 [==============================] - 0s 4ms/step - loss: 0.3252 - accuracy: 0.8633\n",
            "Epoch 51/200\n",
            "24/24 [==============================] - 0s 3ms/step - loss: 0.3311 - accuracy: 0.8594\n",
            "Epoch 52/200\n",
            "24/24 [==============================] - 0s 3ms/step - loss: 0.3217 - accuracy: 0.8620\n",
            "Epoch 53/200\n",
            "24/24 [==============================] - 0s 3ms/step - loss: 0.3547 - accuracy: 0.8385\n",
            "Epoch 54/200\n",
            "24/24 [==============================] - 0s 3ms/step - loss: 0.3303 - accuracy: 0.8737\n",
            "Epoch 55/200\n",
            "24/24 [==============================] - 0s 4ms/step - loss: 0.3681 - accuracy: 0.8307\n",
            "Epoch 56/200\n",
            "24/24 [==============================] - 0s 4ms/step - loss: 0.3171 - accuracy: 0.8724\n",
            "Epoch 57/200\n",
            "24/24 [==============================] - 0s 3ms/step - loss: 0.3196 - accuracy: 0.8633\n",
            "Epoch 58/200\n",
            "24/24 [==============================] - 0s 4ms/step - loss: 0.3287 - accuracy: 0.8555\n",
            "Epoch 59/200\n",
            "24/24 [==============================] - 0s 4ms/step - loss: 0.3449 - accuracy: 0.8411\n",
            "Epoch 60/200\n",
            "24/24 [==============================] - 0s 3ms/step - loss: 0.3413 - accuracy: 0.8568\n",
            "Epoch 61/200\n",
            "24/24 [==============================] - 0s 3ms/step - loss: 0.3326 - accuracy: 0.8555\n",
            "Epoch 62/200\n",
            "24/24 [==============================] - 0s 3ms/step - loss: 0.3595 - accuracy: 0.8372\n",
            "Epoch 63/200\n",
            "24/24 [==============================] - 0s 3ms/step - loss: 0.3348 - accuracy: 0.8438\n",
            "Epoch 64/200\n",
            "24/24 [==============================] - 0s 3ms/step - loss: 0.3015 - accuracy: 0.8789\n",
            "Epoch 65/200\n",
            "24/24 [==============================] - 0s 4ms/step - loss: 0.3134 - accuracy: 0.8698\n",
            "Epoch 66/200\n",
            "24/24 [==============================] - 0s 4ms/step - loss: 0.3159 - accuracy: 0.8633\n",
            "Epoch 67/200\n",
            "24/24 [==============================] - 0s 3ms/step - loss: 0.3275 - accuracy: 0.8542\n",
            "Epoch 68/200\n",
            "24/24 [==============================] - 0s 4ms/step - loss: 0.3333 - accuracy: 0.8516\n",
            "Epoch 69/200\n",
            "24/24 [==============================] - 0s 4ms/step - loss: 0.3625 - accuracy: 0.8477\n",
            "Epoch 70/200\n",
            "24/24 [==============================] - 0s 4ms/step - loss: 0.3160 - accuracy: 0.8620\n",
            "Epoch 71/200\n",
            "24/24 [==============================] - 0s 4ms/step - loss: 0.3122 - accuracy: 0.8737\n",
            "Epoch 72/200\n",
            "24/24 [==============================] - 0s 3ms/step - loss: 0.4115 - accuracy: 0.8125\n",
            "Epoch 73/200\n",
            "24/24 [==============================] - 0s 3ms/step - loss: 0.3482 - accuracy: 0.8281\n",
            "Epoch 74/200\n",
            "24/24 [==============================] - 0s 3ms/step - loss: 0.3456 - accuracy: 0.8542\n",
            "Epoch 75/200\n",
            "24/24 [==============================] - 0s 3ms/step - loss: 0.3265 - accuracy: 0.8750\n",
            "Epoch 76/200\n",
            "24/24 [==============================] - 0s 3ms/step - loss: 0.3052 - accuracy: 0.8685\n",
            "Epoch 77/200\n",
            "24/24 [==============================] - 0s 4ms/step - loss: 0.3280 - accuracy: 0.8555\n",
            "Epoch 78/200\n",
            "24/24 [==============================] - 0s 3ms/step - loss: 0.3089 - accuracy: 0.8737\n",
            "Epoch 79/200\n",
            "24/24 [==============================] - 0s 3ms/step - loss: 0.3377 - accuracy: 0.8568\n",
            "Epoch 80/200\n",
            "24/24 [==============================] - 0s 3ms/step - loss: 0.3668 - accuracy: 0.8464\n",
            "Epoch 81/200\n",
            "24/24 [==============================] - 0s 4ms/step - loss: 0.3451 - accuracy: 0.8464\n",
            "Epoch 82/200\n",
            "24/24 [==============================] - 0s 3ms/step - loss: 0.3259 - accuracy: 0.8594\n",
            "Epoch 83/200\n",
            "24/24 [==============================] - 0s 3ms/step - loss: 0.3032 - accuracy: 0.8685\n",
            "Epoch 84/200\n",
            "24/24 [==============================] - 0s 4ms/step - loss: 0.2912 - accuracy: 0.8737\n",
            "Epoch 85/200\n",
            "24/24 [==============================] - 0s 4ms/step - loss: 0.2992 - accuracy: 0.8815\n",
            "Epoch 86/200\n",
            "24/24 [==============================] - 0s 3ms/step - loss: 0.3364 - accuracy: 0.8438\n",
            "Epoch 87/200\n",
            "24/24 [==============================] - 0s 4ms/step - loss: 0.3085 - accuracy: 0.8789\n",
            "Epoch 88/200\n",
            "24/24 [==============================] - 0s 4ms/step - loss: 0.3178 - accuracy: 0.8555\n",
            "Epoch 89/200\n",
            "24/24 [==============================] - 0s 3ms/step - loss: 0.2968 - accuracy: 0.8711\n",
            "Epoch 90/200\n",
            "24/24 [==============================] - 0s 3ms/step - loss: 0.3319 - accuracy: 0.8594\n",
            "Epoch 91/200\n",
            "24/24 [==============================] - 0s 3ms/step - loss: 0.3237 - accuracy: 0.8737\n",
            "Epoch 92/200\n",
            "24/24 [==============================] - 0s 3ms/step - loss: 0.2936 - accuracy: 0.8763\n",
            "Epoch 93/200\n",
            "24/24 [==============================] - 0s 3ms/step - loss: 0.3011 - accuracy: 0.8724\n",
            "Epoch 94/200\n",
            "24/24 [==============================] - 0s 4ms/step - loss: 0.2973 - accuracy: 0.8672\n",
            "Epoch 95/200\n",
            "24/24 [==============================] - 0s 3ms/step - loss: 0.2838 - accuracy: 0.8880\n",
            "Epoch 96/200\n",
            "24/24 [==============================] - 0s 3ms/step - loss: 0.2917 - accuracy: 0.8802\n",
            "Epoch 97/200\n",
            "24/24 [==============================] - 0s 4ms/step - loss: 0.3031 - accuracy: 0.8594\n",
            "Epoch 98/200\n",
            "24/24 [==============================] - 0s 3ms/step - loss: 0.2833 - accuracy: 0.8958\n",
            "Epoch 99/200\n",
            "24/24 [==============================] - 0s 4ms/step - loss: 0.2970 - accuracy: 0.8724\n",
            "Epoch 100/200\n",
            "24/24 [==============================] - 0s 3ms/step - loss: 0.3495 - accuracy: 0.8411\n",
            "Epoch 101/200\n",
            "24/24 [==============================] - 0s 4ms/step - loss: 0.3868 - accuracy: 0.8281\n",
            "Epoch 102/200\n",
            "24/24 [==============================] - 0s 3ms/step - loss: 0.3032 - accuracy: 0.8750\n",
            "Epoch 103/200\n",
            "24/24 [==============================] - 0s 3ms/step - loss: 0.2876 - accuracy: 0.8919\n",
            "Epoch 104/200\n",
            "24/24 [==============================] - 0s 4ms/step - loss: 0.2977 - accuracy: 0.8815\n",
            "Epoch 105/200\n",
            "24/24 [==============================] - 0s 3ms/step - loss: 0.3017 - accuracy: 0.8802\n",
            "Epoch 106/200\n",
            "24/24 [==============================] - 0s 3ms/step - loss: 0.3044 - accuracy: 0.8737\n",
            "Epoch 107/200\n",
            "24/24 [==============================] - 0s 4ms/step - loss: 0.3060 - accuracy: 0.8646\n",
            "Epoch 108/200\n",
            "24/24 [==============================] - 0s 4ms/step - loss: 0.3552 - accuracy: 0.8555\n",
            "Epoch 109/200\n",
            "24/24 [==============================] - 0s 4ms/step - loss: 0.3724 - accuracy: 0.8398\n",
            "Epoch 110/200\n",
            "24/24 [==============================] - 0s 4ms/step - loss: 0.3278 - accuracy: 0.8633\n",
            "Epoch 111/200\n",
            "24/24 [==============================] - 0s 3ms/step - loss: 0.3362 - accuracy: 0.8646\n",
            "Epoch 112/200\n",
            "24/24 [==============================] - 0s 3ms/step - loss: 0.3121 - accuracy: 0.8672\n",
            "Epoch 113/200\n",
            "24/24 [==============================] - 0s 4ms/step - loss: 0.3116 - accuracy: 0.8698\n",
            "Epoch 114/200\n",
            "24/24 [==============================] - 0s 3ms/step - loss: 0.2938 - accuracy: 0.8724\n",
            "Epoch 115/200\n",
            "24/24 [==============================] - 0s 4ms/step - loss: 0.3066 - accuracy: 0.8698\n",
            "Epoch 116/200\n",
            "24/24 [==============================] - 0s 4ms/step - loss: 0.2998 - accuracy: 0.8672\n",
            "Epoch 117/200\n",
            "24/24 [==============================] - 0s 4ms/step - loss: 0.2898 - accuracy: 0.8841\n",
            "Epoch 118/200\n",
            "24/24 [==============================] - 0s 3ms/step - loss: 0.3400 - accuracy: 0.8516\n",
            "Epoch 119/200\n",
            "24/24 [==============================] - 0s 3ms/step - loss: 0.3020 - accuracy: 0.8737\n",
            "Epoch 120/200\n",
            "24/24 [==============================] - 0s 3ms/step - loss: 0.3066 - accuracy: 0.8555\n",
            "Epoch 121/200\n",
            "24/24 [==============================] - 0s 4ms/step - loss: 0.3367 - accuracy: 0.8555\n",
            "Epoch 122/200\n",
            "24/24 [==============================] - 0s 4ms/step - loss: 0.2910 - accuracy: 0.8737\n",
            "Epoch 123/200\n",
            "24/24 [==============================] - 0s 4ms/step - loss: 0.2931 - accuracy: 0.8698\n",
            "Epoch 124/200\n",
            "24/24 [==============================] - 0s 4ms/step - loss: 0.3009 - accuracy: 0.8763\n",
            "Epoch 125/200\n",
            "24/24 [==============================] - 0s 3ms/step - loss: 0.3169 - accuracy: 0.8620\n",
            "Epoch 126/200\n",
            "24/24 [==============================] - 0s 4ms/step - loss: 0.3338 - accuracy: 0.8698\n",
            "Epoch 127/200\n",
            "24/24 [==============================] - 0s 3ms/step - loss: 0.2976 - accuracy: 0.8724\n",
            "Epoch 128/200\n",
            "24/24 [==============================] - 0s 3ms/step - loss: 0.2909 - accuracy: 0.8776\n",
            "Epoch 129/200\n",
            "24/24 [==============================] - 0s 3ms/step - loss: 0.3238 - accuracy: 0.8633\n",
            "Epoch 130/200\n",
            "24/24 [==============================] - 0s 3ms/step - loss: 0.2961 - accuracy: 0.8646\n",
            "Epoch 131/200\n",
            "24/24 [==============================] - 0s 3ms/step - loss: 0.3100 - accuracy: 0.8802\n",
            "Epoch 132/200\n",
            "24/24 [==============================] - 0s 4ms/step - loss: 0.2945 - accuracy: 0.8763\n",
            "Epoch 133/200\n",
            "24/24 [==============================] - 0s 4ms/step - loss: 0.3025 - accuracy: 0.8685\n",
            "Epoch 134/200\n",
            "24/24 [==============================] - 0s 3ms/step - loss: 0.3165 - accuracy: 0.8607\n",
            "Epoch 135/200\n",
            "24/24 [==============================] - 0s 4ms/step - loss: 0.3255 - accuracy: 0.8698\n",
            "Epoch 136/200\n",
            "24/24 [==============================] - 0s 3ms/step - loss: 0.2900 - accuracy: 0.8802\n",
            "Epoch 137/200\n",
            "24/24 [==============================] - 0s 3ms/step - loss: 0.2844 - accuracy: 0.8906\n",
            "Epoch 138/200\n",
            "24/24 [==============================] - 0s 3ms/step - loss: 0.2845 - accuracy: 0.8763\n",
            "Epoch 139/200\n",
            "24/24 [==============================] - 0s 3ms/step - loss: 0.2701 - accuracy: 0.8724\n",
            "Epoch 140/200\n",
            "24/24 [==============================] - 0s 3ms/step - loss: 0.2610 - accuracy: 0.8828\n",
            "Epoch 141/200\n",
            "24/24 [==============================] - 0s 3ms/step - loss: 0.2548 - accuracy: 0.8867\n",
            "Epoch 142/200\n",
            "24/24 [==============================] - 0s 3ms/step - loss: 0.2741 - accuracy: 0.8789\n",
            "Epoch 143/200\n",
            "24/24 [==============================] - 0s 4ms/step - loss: 0.2695 - accuracy: 0.8828\n",
            "Epoch 144/200\n",
            "24/24 [==============================] - 0s 3ms/step - loss: 0.2691 - accuracy: 0.8815\n",
            "Epoch 145/200\n",
            "24/24 [==============================] - 0s 4ms/step - loss: 0.2962 - accuracy: 0.8776\n",
            "Epoch 146/200\n",
            "24/24 [==============================] - 0s 3ms/step - loss: 0.2829 - accuracy: 0.8659\n",
            "Epoch 147/200\n",
            "24/24 [==============================] - 0s 6ms/step - loss: 0.2719 - accuracy: 0.8750\n",
            "Epoch 148/200\n",
            "24/24 [==============================] - 0s 6ms/step - loss: 0.3146 - accuracy: 0.8763\n",
            "Epoch 149/200\n",
            "24/24 [==============================] - 0s 5ms/step - loss: 0.2808 - accuracy: 0.8776\n",
            "Epoch 150/200\n",
            "24/24 [==============================] - 0s 5ms/step - loss: 0.3168 - accuracy: 0.8529\n",
            "Epoch 151/200\n",
            "24/24 [==============================] - 0s 5ms/step - loss: 0.2944 - accuracy: 0.8854\n",
            "Epoch 152/200\n",
            "24/24 [==============================] - 0s 6ms/step - loss: 0.2559 - accuracy: 0.8984\n",
            "Epoch 153/200\n",
            "24/24 [==============================] - 0s 4ms/step - loss: 0.2723 - accuracy: 0.8828\n",
            "Epoch 154/200\n",
            "24/24 [==============================] - 0s 4ms/step - loss: 0.2531 - accuracy: 0.8984\n",
            "Epoch 155/200\n",
            "24/24 [==============================] - 0s 5ms/step - loss: 0.2727 - accuracy: 0.8763\n",
            "Epoch 156/200\n",
            "24/24 [==============================] - 0s 5ms/step - loss: 0.2653 - accuracy: 0.8880\n",
            "Epoch 157/200\n",
            "24/24 [==============================] - 0s 5ms/step - loss: 0.2659 - accuracy: 0.8854\n",
            "Epoch 158/200\n",
            "24/24 [==============================] - 0s 5ms/step - loss: 0.2492 - accuracy: 0.9076\n",
            "Epoch 159/200\n",
            "24/24 [==============================] - 0s 4ms/step - loss: 0.2598 - accuracy: 0.8828\n",
            "Epoch 160/200\n",
            "24/24 [==============================] - 0s 6ms/step - loss: 0.2544 - accuracy: 0.8919\n",
            "Epoch 161/200\n",
            "24/24 [==============================] - 0s 6ms/step - loss: 0.2714 - accuracy: 0.8906\n",
            "Epoch 162/200\n",
            "24/24 [==============================] - 0s 6ms/step - loss: 0.2403 - accuracy: 0.8958\n",
            "Epoch 163/200\n",
            "24/24 [==============================] - 0s 5ms/step - loss: 0.2356 - accuracy: 0.8997\n",
            "Epoch 164/200\n",
            "24/24 [==============================] - 0s 5ms/step - loss: 0.2805 - accuracy: 0.8776\n",
            "Epoch 165/200\n",
            "24/24 [==============================] - 0s 5ms/step - loss: 0.2554 - accuracy: 0.8919\n",
            "Epoch 166/200\n",
            "24/24 [==============================] - 0s 5ms/step - loss: 0.2472 - accuracy: 0.8906\n",
            "Epoch 167/200\n",
            "24/24 [==============================] - 0s 6ms/step - loss: 0.2579 - accuracy: 0.8750\n",
            "Epoch 168/200\n",
            "24/24 [==============================] - 0s 6ms/step - loss: 0.2879 - accuracy: 0.8659\n",
            "Epoch 169/200\n",
            "24/24 [==============================] - 0s 5ms/step - loss: 0.2370 - accuracy: 0.9062\n",
            "Epoch 170/200\n",
            "24/24 [==============================] - 0s 5ms/step - loss: 0.2279 - accuracy: 0.9036\n",
            "Epoch 171/200\n",
            "24/24 [==============================] - 0s 5ms/step - loss: 0.2326 - accuracy: 0.9089\n",
            "Epoch 172/200\n",
            "24/24 [==============================] - 0s 3ms/step - loss: 0.2505 - accuracy: 0.8971\n",
            "Epoch 173/200\n",
            "24/24 [==============================] - 0s 3ms/step - loss: 0.2301 - accuracy: 0.9062\n",
            "Epoch 174/200\n",
            "24/24 [==============================] - 0s 4ms/step - loss: 0.2436 - accuracy: 0.8906\n",
            "Epoch 175/200\n",
            "24/24 [==============================] - 0s 3ms/step - loss: 0.2751 - accuracy: 0.8841\n",
            "Epoch 176/200\n",
            "24/24 [==============================] - 0s 4ms/step - loss: 0.2339 - accuracy: 0.9036\n",
            "Epoch 177/200\n",
            "24/24 [==============================] - 0s 5ms/step - loss: 0.2475 - accuracy: 0.8919\n",
            "Epoch 178/200\n",
            "24/24 [==============================] - 0s 3ms/step - loss: 0.2333 - accuracy: 0.9023\n",
            "Epoch 179/200\n",
            "24/24 [==============================] - 0s 3ms/step - loss: 0.2326 - accuracy: 0.9102\n",
            "Epoch 180/200\n",
            "24/24 [==============================] - 0s 3ms/step - loss: 0.3843 - accuracy: 0.8424\n",
            "Epoch 181/200\n",
            "24/24 [==============================] - 0s 3ms/step - loss: 0.2781 - accuracy: 0.8919\n",
            "Epoch 182/200\n",
            "24/24 [==============================] - 0s 3ms/step - loss: 0.2278 - accuracy: 0.9010\n",
            "Epoch 183/200\n",
            "24/24 [==============================] - 0s 4ms/step - loss: 0.2254 - accuracy: 0.9062\n",
            "Epoch 184/200\n",
            "24/24 [==============================] - 0s 3ms/step - loss: 0.2519 - accuracy: 0.8919\n",
            "Epoch 185/200\n",
            "24/24 [==============================] - 0s 3ms/step - loss: 0.2007 - accuracy: 0.9193\n",
            "Epoch 186/200\n",
            "24/24 [==============================] - 0s 3ms/step - loss: 0.2068 - accuracy: 0.9102\n",
            "Epoch 187/200\n",
            "24/24 [==============================] - 0s 3ms/step - loss: 0.2097 - accuracy: 0.9089\n",
            "Epoch 188/200\n",
            "24/24 [==============================] - 0s 4ms/step - loss: 0.2816 - accuracy: 0.8789\n",
            "Epoch 189/200\n",
            "24/24 [==============================] - 0s 3ms/step - loss: 0.2364 - accuracy: 0.8971\n",
            "Epoch 190/200\n",
            "24/24 [==============================] - 0s 4ms/step - loss: 0.2147 - accuracy: 0.9128\n",
            "Epoch 191/200\n",
            "24/24 [==============================] - 0s 3ms/step - loss: 0.1970 - accuracy: 0.9271\n",
            "Epoch 192/200\n",
            "24/24 [==============================] - 0s 3ms/step - loss: 0.1791 - accuracy: 0.9349\n",
            "Epoch 193/200\n",
            "24/24 [==============================] - 0s 4ms/step - loss: 0.1852 - accuracy: 0.9193\n",
            "Epoch 194/200\n",
            "24/24 [==============================] - 0s 4ms/step - loss: 0.2064 - accuracy: 0.9102\n",
            "Epoch 195/200\n",
            "24/24 [==============================] - 0s 3ms/step - loss: 0.2103 - accuracy: 0.9154\n",
            "Epoch 196/200\n",
            "24/24 [==============================] - 0s 3ms/step - loss: 0.2786 - accuracy: 0.8737\n",
            "Epoch 197/200\n",
            "24/24 [==============================] - 0s 3ms/step - loss: 0.2513 - accuracy: 0.8880\n",
            "Epoch 198/200\n",
            "24/24 [==============================] - 0s 3ms/step - loss: 0.2333 - accuracy: 0.9036\n",
            "Epoch 199/200\n",
            "24/24 [==============================] - 0s 4ms/step - loss: 0.1857 - accuracy: 0.9284\n",
            "Epoch 200/200\n",
            "24/24 [==============================] - 0s 4ms/step - loss: 0.2092 - accuracy: 0.9062\n",
            "9/9 [==============================] - 0s 3ms/step - loss: 0.2661 - accuracy: 0.8833\n",
            "Accuracy: 0.8832684755325317\n"
          ]
        }
      ]
    }
  ]
}